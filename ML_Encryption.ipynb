{
  "nbformat": 4,
  "nbformat_minor": 0,
  "metadata": {
    "colab": {
      "provenance": []
    },
    "kernelspec": {
      "name": "python3",
      "display_name": "Python 3"
    },
    "language_info": {
      "name": "python"
    },
    "accelerator": "GPU",
    "gpuClass": "standard"
  },
  "cells": [
    {
      "cell_type": "code",
      "source": [
        "!pip install crypten"
      ],
      "metadata": {
        "id": "SOLtHvZmS3hi"
      },
      "execution_count": null,
      "outputs": []
    },
    {
      "cell_type": "markdown",
      "metadata": {
        "id": "Tjm8URkE1zwk"
      },
      "source": [
        "### Creating Encrypted Tensors\n",
        "CrypTen provides a ```crypten.cryptensor``` factory function, similar to ```torch.tensor```, to make creating ```CrypTensors``` easy.\n",
        "\n",
        "Let's begin by creating a ```torch``` tensor and encrypting it using ```crypten.cryptensor```. To decrypt a ```CrypTensor```, use ```get_plain_text()``` to return the original tensor.  (```CrypTensors``` can also be created directly from a list or an array.)\n"
      ]
    },
    {
      "cell_type": "code",
      "execution_count": null,
      "metadata": {
        "colab": {
          "base_uri": "https://localhost:8080/"
        },
        "id": "krODn-TL1zwl",
        "outputId": "e47bdffe-32c7-4b5c-d72c-454765378d98"
      },
      "outputs": [
        {
          "output_type": "stream",
          "name": "stdout",
          "text": [
            "MPCTensor(\n",
            "\t_tensor=tensor([[ 65536, 131072],\n",
            "        [196608, 262144]])\n",
            "\tplain_text=HIDDEN\n",
            "\tptype=ptype.arithmetic\n",
            ")\n",
            "tensor([[1., 2.],\n",
            "        [3., 4.]])\n",
            "MPCTensor(\n",
            "\t_tensor=tensor([262144, 327680, 393216])\n",
            "\tplain_text=HIDDEN\n",
            "\tptype=ptype.arithmetic\n",
            ")\n",
            "tensor([4., 5., 6.])\n"
          ]
        }
      ],
      "source": [
        "# Create torch tensor\n",
        "x = torch.tensor([[1.0, 2.0], [3.0, 4.0]])\n",
        "\n",
        "# Encrypt x\n",
        "x_enc = crypten.cryptensor(x)\n",
        "\n",
        "crypten.print(x_enc)\n",
        "# Decrypt x\n",
        "x_dec = x_enc.get_plain_text()\n",
        "crypten.print(x_dec)\n",
        "\n",
        "\n",
        "# Create python list\n",
        "y = [4.0, 5.0, 6.0]\n",
        "\n",
        "# Encrypt y\n",
        "y_enc = crypten.cryptensor(y)\n",
        "crypten.print(y_enc)\n",
        "# Decrypt y\n",
        "y_dec = y_enc.get_plain_text(y_enc)\n",
        "crypten.print(y_dec)"
      ]
    },
    {
      "cell_type": "code",
      "source": [],
      "metadata": {
        "id": "WRPpmHppXDrI"
      },
      "execution_count": null,
      "outputs": []
    },
    {
      "cell_type": "markdown",
      "metadata": {
        "id": "NHdu-SI51zwm"
      },
      "source": [
        "## Operations on Encrypted Tensors\n",
        "Now let's look at what we can do with our ```CrypTensors```.\n",
        "\n",
        "#### Arithmetic Operations\n",
        "We can carry out regular arithmetic operations between ```CrypTensors```, as well as between ```CrypTensors``` and plaintext tensors. Note that these operations never reveal any information about encrypted tensors (internally or externally) and return an encrypted tensor output."
      ]
    },
    {
      "cell_type": "code",
      "execution_count": null,
      "metadata": {
        "colab": {
          "base_uri": "https://localhost:8080/"
        },
        "id": "AEC0TKfm1zwn",
        "outputId": "0ff4fc27-8e02-4eff-c23e-29d7a217853b"
      },
      "outputs": [
        {
          "output_type": "stream",
          "name": "stdout",
          "text": [
            "\n",
            "Public  addition: tensor([3., 4., 5.])\n",
            "Private addition: tensor([3., 4., 5.])\n",
            "\n",
            "Public  subtraction: tensor([-1.,  0.,  1.])\n",
            "Private subtraction: tensor([-1.,  0.,  1.])\n",
            "\n",
            "Public  multiplication: tensor([2., 4., 6.])\n",
            "Private multiplication: tensor([2., 4., 6.])\n",
            "\n",
            "Public  division: tensor([0.5000, 1.0000, 1.5000])\n",
            "Private division: tensor([0.5000, 1.0000, 1.5000])\n"
          ]
        }
      ],
      "source": [
        "#Arithmetic operations between CrypTensors and plaintext tensors\n",
        "x_enc = crypten.cryptensor([1.0, 2.0, 3.0])\n",
        "\n",
        "y = 2.0\n",
        "y_enc = crypten.cryptensor(2.0)\n",
        "\n",
        "\n",
        "# Addition\n",
        "z_enc1 = x_enc + y     # Public\n",
        "z_enc2 = x_enc + y_enc  # Private\n",
        "crypten.print(\"\\nPublic  addition:\", z_enc1.get_plain_text())\n",
        "crypten.print(\"Private addition:\", z_enc2.get_plain_text())\n",
        "\n",
        "\n",
        "# Subtraction\n",
        "z_enc1 = x_enc - y     # Public\n",
        "z_enc2 = x_enc - y_enc  # Private\n",
        "crypten.print(\"\\nPublic  subtraction:\", z_enc1.get_plain_text())\n",
        "print(\"Private subtraction:\", z_enc2.get_plain_text())\n",
        "\n",
        "# Multiplication\n",
        "z_enc1 = x_enc * y     # Public\n",
        "z_enc2 = x_enc * y_enc  # Private\n",
        "print(\"\\nPublic  multiplication:\", z_enc1.get_plain_text())\n",
        "print(\"Private multiplication:\", z_enc2.get_plain_text())\n",
        "\n",
        "# Division\n",
        "z_enc1 = x_enc / y      # Public\n",
        "z_enc2 = x_enc / y_enc  # Private\n",
        "print(\"\\nPublic  division:\", z_enc1.get_plain_text())\n",
        "print(\"Private division:\", z_enc2.get_plain_text())"
      ]
    },
    {
      "cell_type": "markdown",
      "source": [
        "# Training custom pytorch model using Crypten"
      ],
      "metadata": {
        "id": "hxDlNAxjxdm0"
      }
    },
    {
      "cell_type": "code",
      "source": [
        "import crypten\n",
        "import torch\n",
        "import torchvision\n",
        "import torchvision.transforms as transforms\n",
        "\n",
        "# Load the CIFAR-10 dataset\n",
        "transform = transforms.Compose(\n",
        "    [transforms.ToTensor(),\n",
        "     transforms.Normalize((0.5, 0.5, 0.5), (0.5, 0.5, 0.5))])\n",
        "trainset = torchvision.datasets.CIFAR10(root='./data', train=True,download=True, transform=transform)\n",
        "trainloader = torch.utils.data.DataLoader(trainset, batch_size=64,shuffle=True, num_workers=2)\n",
        "testset = torchvision.datasets.CIFAR10(root='./data', train=False,download=True, transform=transform)\n",
        "testloader = torch.utils.data.DataLoader(testset, batch_size=64,shuffle=False, num_workers=2)"
      ],
      "metadata": {
        "colab": {
          "base_uri": "https://localhost:8080/"
        },
        "id": "g4YOWCCdniRk",
        "outputId": "448b2cc3-442b-41cf-86fd-dbb0d705281d"
      },
      "execution_count": null,
      "outputs": [
        {
          "output_type": "stream",
          "name": "stdout",
          "text": [
            "Files already downloaded and verified\n",
            "Files already downloaded and verified\n"
          ]
        }
      ]
    },
    {
      "cell_type": "code",
      "source": [
        "# Define the model architecture\n",
        "class Net(torch.nn.Module):\n",
        "    def __init__(self):\n",
        "        super(Net, self).__init__()\n",
        "        self.conv1 = torch.nn.Conv2d(3, 6, 5)\n",
        "        self.pool = torch.nn.MaxPool2d(2, 2)\n",
        "        self.conv2 = torch.nn.Conv2d(6, 16, 5)\n",
        "        self.fc1 = torch.nn.Linear(16 * 5 * 5, 120)\n",
        "        self.fc2 = torch.nn.Linear(120, 84)\n",
        "        self.fc3 = torch.nn.Linear(84, 10)\n",
        "\n",
        "    def forward(self, x):\n",
        "        x = self.pool(torch.nn.functional.relu(self.conv1(x)))\n",
        "        x = self.pool(torch.nn.functional.relu(self.conv2(x)))\n",
        "        x = x.view(-1, 16 * 5 * 5)\n",
        "        x = torch.nn.functional.relu(self.fc1(x))\n",
        "        x = torch.nn.functional.relu(self.fc2(x))\n",
        "        x = self.fc3(x)\n",
        "        return x"
      ],
      "metadata": {
        "id": "MJdUuzo-VIEt"
      },
      "execution_count": null,
      "outputs": []
    },
    {
      "cell_type": "code",
      "source": [
        "# Encrypt the model\n",
        "# set device to GPU if available, otherwise use CPU\n",
        "device = torch.device(\"cpu\")\n",
        "\n",
        "# initialize Crypten to use the same device\n",
        "crypten.init(device=device)\n",
        "\n",
        "dummy_input = torch.randn(1, 3, 32, 32).to(device)\n",
        "\n",
        "# Define the loss function and optimizer\n",
        "criterion = crypten.nn.CrossEntropyLoss().to(device)\n",
        "optimizer = crypten.optim.SGD\n",
        "\n",
        "# Train the model on encrypted data\n",
        "model = Net().to(device)\n",
        "encrypted_model = crypten.nn.from_pytorch(model, dummy_input.float()).to(device)\n",
        "encrypted_model.encrypt()\n",
        "optimizer = optimizer(encrypted_model.parameters(), lr=0.001, momentum=0.9)\n"
      ],
      "metadata": {
        "colab": {
          "base_uri": "https://localhost:8080/"
        },
        "id": "Kg66PoMBlr82",
        "outputId": "ce8358c9-a17e-47ae-bd75-a3cd53de0bff"
      },
      "execution_count": null,
      "outputs": [
        {
          "output_type": "stream",
          "name": "stdout",
          "text": [
            "============= Diagnostic Run torch.onnx.export version 2.0.0+cu118 =============\n",
            "verbose: False, log level: Level.ERROR\n",
            "======================= 0 NONE 0 NOTE 0 WARNING 0 ERROR ========================\n",
            "\n",
            "============= Diagnostic Run torch.onnx.export version 2.0.0+cu118 =============\n",
            "verbose: False, log level: Level.ERROR\n",
            "======================= 0 NONE 0 NOTE 0 WARNING 0 ERROR ========================\n",
            "\n"
          ]
        },
        {
          "output_type": "stream",
          "name": "stderr",
          "text": [
            "/usr/local/lib/python3.9/dist-packages/crypten/__init__.py:64: RuntimeWarning: CrypTen is already initialized.\n",
            "  warnings.warn(\"CrypTen is already initialized.\", RuntimeWarning)\n"
          ]
        }
      ]
    },
    {
      "cell_type": "code",
      "source": [
        "from tqdm import tqdm\n",
        "import torch.nn.functional as F\n",
        "\n",
        "epochs =3\n",
        "for epoch in range(epochs):\n",
        "    running_loss = 0.0\n",
        "    correct = 0\n",
        "    total = 0\n",
        "    for i, (images, labels) in enumerate(tqdm(trainloader)):\n",
        "        encrypted_inputs = crypten.cryptensor(images.to(device))  # move input tensor to GPU\n",
        "        encrypted_labels = crypten.cryptensor(F.one_hot(labels.to(device), num_classes=10).to(device))\n",
        "        optimizer.zero_grad()\n",
        "        encrypted_outputs = encrypted_model(encrypted_inputs)\n",
        "        encrypted_loss = criterion(encrypted_outputs, encrypted_labels)\n",
        "        encrypted_loss.backward()\n",
        "        optimizer.step()\n",
        "\n",
        "        running_loss += encrypted_loss.get_plain_text().item()\n",
        "        _, predicted = encrypted_outputs.get_plain_text().max(1)\n",
        "        total += encrypted_labels.get_plain_text().size(0)\n",
        "        correct += predicted.eq(labels).sum().item()\n",
        "\n",
        "    epoch_loss = running_loss / len(trainloader)\n",
        "    epoch_acc = 100 * correct / total\n",
        "\n",
        "    print(f\"Epoch {epoch+1}/{epochs}, Loss: {epoch_loss:.4f}, Accuracy: {epoch_acc:.2f}%\")\n"
      ],
      "metadata": {
        "colab": {
          "base_uri": "https://localhost:8080/"
        },
        "id": "AwQUyS5Crnpd",
        "outputId": "6b31cffd-af2c-4f97-a6e1-b9e8da3af539"
      },
      "execution_count": null,
      "outputs": [
        {
          "output_type": "stream",
          "name": "stderr",
          "text": [
            "100%|██████████| 782/782 [37:54<00:00,  2.91s/it]\n"
          ]
        },
        {
          "output_type": "stream",
          "name": "stdout",
          "text": [
            "Epoch 1/3, Loss: 2.3120, Accuracy: 10.60%\n"
          ]
        },
        {
          "output_type": "stream",
          "name": "stderr",
          "text": [
            "100%|██████████| 782/782 [36:55<00:00,  2.83s/it]\n"
          ]
        },
        {
          "output_type": "stream",
          "name": "stdout",
          "text": [
            "Epoch 2/3, Loss: 2.3109, Accuracy: 11.73%\n"
          ]
        },
        {
          "output_type": "stream",
          "name": "stderr",
          "text": [
            "100%|██████████| 782/782 [36:47<00:00,  2.82s/it]"
          ]
        },
        {
          "output_type": "stream",
          "name": "stdout",
          "text": [
            "Epoch 3/3, Loss: 2.3107, Accuracy: 12.49%\n"
          ]
        },
        {
          "output_type": "stream",
          "name": "stderr",
          "text": [
            "\n"
          ]
        }
      ]
    },
    {
      "cell_type": "code",
      "source": [
        "import matplotlib.pyplot as plt\n",
        "image = testset[5][0][1]\n",
        "\n",
        "# Plot the image\n",
        "plt.imshow(image, cmap='gray')\n",
        "plt.axis('off')\n",
        "plt.show()\n",
        "\n",
        "# Print the label of the image\n",
        "print(\"Label for image is:\", testset[5][1])\n",
        "prediction = encrypted_model(crypten.cryptensor(testset[5][0].reshape([1,3,32,32]))).get_plain_text().argmax()\n",
        "print('Predicted label is:', int(prediction))"
      ],
      "metadata": {
        "colab": {
          "base_uri": "https://localhost:8080/",
          "height": 442
        },
        "id": "F7YUi5R0Siya",
        "outputId": "191874cf-fe0a-4332-8550-e6cba9ca9fe1"
      },
      "execution_count": null,
      "outputs": [
        {
          "output_type": "display_data",
          "data": {
            "text/plain": [
              "<Figure size 640x480 with 1 Axes>"
            ],
            "image/png": "[encoded data removed]"
          },
          "metadata": {}
        },
        {
          "output_type": "stream",
          "name": "stdout",
          "text": [
            "Label for image is: 6\n",
            "Predicted label is: 6\n"
          ]
        }
      ]
    },
    {
      "cell_type": "code",
      "source": [
        "correct = 0\n",
        "for image,label in tqdm(testset):\n",
        "  prediction = encrypted_model(crypten.cryptensor(image.reshape([1,3,32,32]))).get_plain_text().argmax()\n",
        "  if prediction == label:\n",
        "    correct = correct+1"
      ],
      "metadata": {
        "colab": {
          "base_uri": "https://localhost:8080/"
        },
        "id": "tMYTRLNdKgeE",
        "outputId": "8de0cfd8-5380-4f59-f9b5-9e5b73d8c449"
      },
      "execution_count": null,
      "outputs": [
        {
          "output_type": "stream",
          "name": "stderr",
          "text": [
            "100%|██████████| 10000/10000 [24:11<00:00,  6.89it/s]\n"
          ]
        }
      ]
    },
    {
      "cell_type": "code",
      "source": [
        "print('Average test Accuracy :',float(correct / 10000))"
      ],
      "metadata": {
        "colab": {
          "base_uri": "https://localhost:8080/"
        },
        "id": "p6-czjQXK80x",
        "outputId": "0383f8e9-4621-47b6-80bc-3e7a87673144"
      },
      "execution_count": null,
      "outputs": [
        {
          "output_type": "stream",
          "name": "stdout",
          "text": [
            "Average test Accuracy : 0.1345\n"
          ]
        }
      ]
    },
    {
      "cell_type": "markdown",
      "source": [
        "# Training Classifier model using Crypten"
      ],
      "metadata": {
        "id": "vwSqbb7fOx6h"
      }
    },
    {
      "cell_type": "code",
      "source": [
        "import sys\n",
        "import torch\n",
        "import torchvision\n",
        "import matplotlib.pyplot as plt\n",
        "\n",
        "\n",
        "#python 3.7 is required\n",
        "#assert sys.version_info[0] == 3 and sys.version_info[1] == 7, \"python 3.7 is required\"\n",
        "\n",
        "import crypten\n",
        "crypten.init()\n",
        "\n",
        "%matplotlib inline"
      ],
      "metadata": {
        "colab": {
          "base_uri": "https://localhost:8080/"
        },
        "outputId": "a498fe2f-ff9e-451f-b9c9-1c13a31720ef",
        "id": "RVgqcPJ2Ox6h"
      },
      "execution_count": null,
      "outputs": [
        {
          "output_type": "stream",
          "name": "stderr",
          "text": [
            "/usr/local/lib/python3.9/dist-packages/crypten/__init__.py:64: RuntimeWarning: CrypTen is already initialized.\n",
            "  warnings.warn(\"CrypTen is already initialized.\", RuntimeWarning)\n"
          ]
        }
      ]
    },
    {
      "cell_type": "code",
      "source": [
        "digits = torchvision.datasets.MNIST(root = '/temp/data', train = True, transform=torchvision.transforms.ToTensor(), download=True)\n",
        "\n",
        "digits_test = torchvision.datasets.MNIST(root = '/temp/data', train = False, transform=torchvision.transforms.ToTensor(), download=True)"
      ],
      "metadata": {
        "colab": {
          "base_uri": "https://localhost:8080/"
        },
        "outputId": "9df09ce5-ef57-49b6-e816-0c98b774b528",
        "id": "Qh3Ym_3POx6i"
      },
      "execution_count": null,
      "outputs": [
        {
          "output_type": "stream",
          "name": "stdout",
          "text": [
            "Downloading http://yann.lecun.com/exdb/mnist/train-images-idx3-ubyte.gz\n",
            "Downloading http://yann.lecun.com/exdb/mnist/train-images-idx3-ubyte.gz to /temp/data/MNIST/raw/train-images-idx3-ubyte.gz\n"
          ]
        },
        {
          "output_type": "stream",
          "name": "stderr",
          "text": [
            "100%|██████████| 9912422/9912422 [00:00<00:00, 188703454.67it/s]"
          ]
        },
        {
          "output_type": "stream",
          "name": "stdout",
          "text": [
            "Extracting /temp/data/MNIST/raw/train-images-idx3-ubyte.gz to /temp/data/MNIST/raw\n"
          ]
        },
        {
          "output_type": "stream",
          "name": "stderr",
          "text": [
            "\n"
          ]
        },
        {
          "output_type": "stream",
          "name": "stdout",
          "text": [
            "\n",
            "Downloading http://yann.lecun.com/exdb/mnist/train-labels-idx1-ubyte.gz\n",
            "Downloading http://yann.lecun.com/exdb/mnist/train-labels-idx1-ubyte.gz to /temp/data/MNIST/raw/train-labels-idx1-ubyte.gz\n"
          ]
        },
        {
          "output_type": "stream",
          "name": "stderr",
          "text": [
            "100%|██████████| 28881/28881 [00:00<00:00, 25268188.12it/s]\n"
          ]
        },
        {
          "output_type": "stream",
          "name": "stdout",
          "text": [
            "Extracting /temp/data/MNIST/raw/train-labels-idx1-ubyte.gz to /temp/data/MNIST/raw\n",
            "\n",
            "Downloading http://yann.lecun.com/exdb/mnist/t10k-images-idx3-ubyte.gz\n",
            "Downloading http://yann.lecun.com/exdb/mnist/t10k-images-idx3-ubyte.gz to /temp/data/MNIST/raw/t10k-images-idx3-ubyte.gz\n"
          ]
        },
        {
          "output_type": "stream",
          "name": "stderr",
          "text": [
            "100%|██████████| 1648877/1648877 [00:00<00:00, 83204699.25it/s]"
          ]
        },
        {
          "output_type": "stream",
          "name": "stdout",
          "text": [
            "Extracting /temp/data/MNIST/raw/t10k-images-idx3-ubyte.gz to /temp/data/MNIST/raw\n",
            "\n",
            "Downloading http://yann.lecun.com/exdb/mnist/t10k-labels-idx1-ubyte.gz\n"
          ]
        },
        {
          "output_type": "stream",
          "name": "stderr",
          "text": [
            "\n"
          ]
        },
        {
          "output_type": "stream",
          "name": "stdout",
          "text": [
            "Downloading http://yann.lecun.com/exdb/mnist/t10k-labels-idx1-ubyte.gz to /temp/data/MNIST/raw/t10k-labels-idx1-ubyte.gz\n"
          ]
        },
        {
          "output_type": "stream",
          "name": "stderr",
          "text": [
            "100%|██████████| 4542/4542 [00:00<00:00, 17209149.75it/s]"
          ]
        },
        {
          "output_type": "stream",
          "name": "stdout",
          "text": [
            "Extracting /temp/data/MNIST/raw/t10k-labels-idx1-ubyte.gz to /temp/data/MNIST/raw\n",
            "\n"
          ]
        },
        {
          "output_type": "stream",
          "name": "stderr",
          "text": [
            "\n"
          ]
        }
      ]
    },
    {
      "cell_type": "markdown",
      "source": [
        "Ploting an imgae from MNIST data set and associate label"
      ],
      "metadata": {
        "id": "ujRm9FjdV1D6"
      }
    },
    {
      "cell_type": "code",
      "source": [
        "plt.imshow(digits[1][0][0], cmap='gray', interpolation='none')\n",
        "print(\"label for image is \", digits[0][1])"
      ],
      "metadata": {
        "colab": {
          "base_uri": "https://localhost:8080/",
          "height": 448
        },
        "outputId": "30a4069b-0181-483e-83a3-32d7cd6b53e2",
        "id": "lronnBUqOx6i"
      },
      "execution_count": null,
      "outputs": [
        {
          "output_type": "stream",
          "name": "stdout",
          "text": [
            "label for image is  5\n"
          ]
        },
        {
          "output_type": "display_data",
          "data": {
            "text/plain": [
              "<Figure size 640x480 with 1 Axes>"
            ],
            "image/png": "[encoded data removed]"
          },
          "metadata": {}
        }
      ]
    },
    {
      "cell_type": "code",
      "source": [
        "digits[1][1]"
      ],
      "metadata": {
        "colab": {
          "base_uri": "https://localhost:8080/"
        },
        "outputId": "f67ff53c-c64e-4b4c-ac55-6dbc8ab1f178",
        "id": "ND_DS_8HOx6i"
      },
      "execution_count": null,
      "outputs": [
        {
          "output_type": "execute_result",
          "data": {
            "text/plain": [
              "0"
            ]
          },
          "metadata": {},
          "execution_count": 102
        }
      ]
    },
    {
      "cell_type": "markdown",
      "source": [
        "Preprocessing data for training"
      ],
      "metadata": {
        "id": "UVW9w_PxV_RS"
      }
    },
    {
      "cell_type": "code",
      "source": [
        "def take_samples(digits, n_samples=1000):\n",
        "    \"\"\"Returns images and labels based on sample size\"\"\"\n",
        "    images, labels = [], []\n",
        "\n",
        "    for i, digit in enumerate(digits):\n",
        "        if i == n_samples:\n",
        "            break\n",
        "        # Prepare samples\n",
        "        image, label = digit\n",
        "        images.append(image)\n",
        "        temp = torch.nn.functional.one_hot(torch.tensor(label),10)\n",
        "        labels.append(temp)\n",
        "    images = torch.cat(images)\n",
        "    labels = torch.stack(labels)\n",
        "    return images, labels"
      ],
      "metadata": {
        "id": "Mk1_NjIUOx6i"
      },
      "execution_count": null,
      "outputs": []
    },
    {
      "cell_type": "code",
      "source": [
        "# Prepare training samples using take_samples()\n",
        "images, labels = take_samples(digits, 1000)"
      ],
      "metadata": {
        "id": "Zi9qUIRhOx6i"
      },
      "execution_count": null,
      "outputs": []
    },
    {
      "cell_type": "code",
      "source": [
        "# Prepare testing samples using take_samples()\n",
        "images_test, labels_test = take_samples(digits, 100)"
      ],
      "metadata": {
        "id": "GYa-9UBFOx6i"
      },
      "execution_count": null,
      "outputs": []
    },
    {
      "cell_type": "code",
      "source": [
        "plt.imshow(images[5], cmap='gray', interpolation='none')\n",
        "print(\"label for image is \", labels[5])"
      ],
      "metadata": {
        "colab": {
          "base_uri": "https://localhost:8080/",
          "height": 448
        },
        "outputId": "dc23c996-0d12-40bc-c0ff-7d10447b6a42",
        "id": "2ylnPj6WOx6j"
      },
      "execution_count": null,
      "outputs": [
        {
          "output_type": "stream",
          "name": "stdout",
          "text": [
            "label for image is  tensor([0, 0, 1, 0, 0, 0, 0, 0, 0, 0])\n"
          ]
        },
        {
          "output_type": "display_data",
          "data": {
            "text/plain": [
              "<Figure size 640x480 with 1 Axes>"
            ],
            "image/png": "[encoded data removed]"
          },
          "metadata": {}
        }
      ]
    },
    {
      "cell_type": "markdown",
      "source": [
        "Encrypting image and labels for training"
      ],
      "metadata": {
        "id": "GkaVBdqlWEZ9"
      }
    },
    {
      "cell_type": "code",
      "source": [
        "# Please encrypt the images and labels using crypten.cryptensor() function\n",
        "images_enc = crypten.cryptensor(images)\n",
        "labels_enc = crypten.cryptensor(labels)"
      ],
      "metadata": {
        "id": "3iJ2-g_qOx6j"
      },
      "execution_count": null,
      "outputs": []
    },
    {
      "cell_type": "markdown",
      "source": [
        "encrypted image is stored in MPCTensor: encrypted using the secure MPC protocol. In order to support the mathematical"
      ],
      "metadata": {
        "id": "pYvZkxcaWJZ_"
      }
    },
    {
      "cell_type": "code",
      "source": [
        "images_enc[0]"
      ],
      "metadata": {
        "colab": {
          "base_uri": "https://localhost:8080/"
        },
        "outputId": "aad41288-ef21-4ac3-aac7-b1e0d73346e2",
        "id": "5LFPAWl8Ox6j"
      },
      "execution_count": null,
      "outputs": [
        {
          "output_type": "execute_result",
          "data": {
            "text/plain": [
              "MPCTensor(\n",
              "\t_tensor=tensor([[    0,     0,     0,     0,     0,     0,     0,     0,     0,     0,\n",
              "             0,     0,     0,     0,     0,     0,     0,     0,     0,     0,\n",
              "             0,     0,     0,     0,     0,     0,     0,     0],\n",
              "        [    0,     0,     0,     0,     0,     0,     0,     0,     0,     0,\n",
              "             0,     0,     0,     0,     0,     0,     0,     0,     0,     0,\n",
              "             0,     0,     0,     0,     0,     0,     0,     0],\n",
              "        [    0,     0,     0,     0,     0,     0,     0,     0,     0,     0,\n",
              "             0,     0,     0,     0,     0,     0,     0,     0,     0,     0,\n",
              "             0,     0,     0,     0,     0,     0,     0,     0],\n",
              "        [    0,     0,     0,     0,     0,     0,     0,     0,     0,     0,\n",
              "             0,     0,     0,     0,     0,     0,     0,     0,     0,     0,\n",
              "             0,     0,     0,     0,     0,     0,     0,     0],\n",
              "        [    0,     0,     0,     0,     0,     0,     0,     0,     0,     0,\n",
              "             0,     0,     0,     0,     0,     0,     0,     0,     0,     0,\n",
              "             0,     0,     0,     0,     0,     0,     0,     0],\n",
              "        [    0,     0,     0,     0,     0,     0,     0,     0,     0,     0,\n",
              "             0,     0,   771,  4626,  4626,  4626, 32382, 34952, 44975,  6682,\n",
              "         42662, 65536, 63479, 32639,     0,     0,     0,     0],\n",
              "        [    0,     0,     0,     0,     0,     0,     0,     0,  7710,  9252,\n",
              "         24158, 39578, 43690, 65021, 65021, 65021, 65021, 65021, 57825, 44204,\n",
              "         65021, 62194, 50115, 16448,     0,     0,     0,     0],\n",
              "        [    0,     0,     0,     0,     0,     0,     0, 12593, 61166, 65021,\n",
              "         65021, 65021, 65021, 65021, 65021, 65021, 65021, 64507, 23901, 21074,\n",
              "         21074, 14392, 10023,     0,     0,     0,     0,     0],\n",
              "        [    0,     0,     0,     0,     0,     0,     0,  4626, 56283, 65021,\n",
              "         65021, 65021, 65021, 65021, 50886, 46774, 63479, 61937,     0,     0,\n",
              "             0,     0,     0,     0,     0,     0,     0,     0],\n",
              "        [    0,     0,     0,     0,     0,     0,     0,     0, 20560, 40092,\n",
              "         27499, 65021, 65021, 52685,  2827,     0, 11051, 39578,     0,     0,\n",
              "             0,     0,     0,     0,     0,     0,     0,     0],\n",
              "        [    0,     0,     0,     0,     0,     0,     0,     0,     0,  3598,\n",
              "           257, 39578, 65021, 23130,     0,     0,     0,     0,     0,     0,\n",
              "             0,     0,     0,     0,     0,     0,     0,     0],\n",
              "        [    0,     0,     0,     0,     0,     0,     0,     0,     0,     0,\n",
              "             0, 35723, 65021, 48830,   514,     0,     0,     0,     0,     0,\n",
              "             0,     0,     0,     0,     0,     0,     0,     0],\n",
              "        [    0,     0,     0,     0,     0,     0,     0,     0,     0,     0,\n",
              "             0,  2827, 48830, 65021, 17990,     0,     0,     0,     0,     0,\n",
              "             0,     0,     0,     0,     0,     0,     0,     0],\n",
              "        [    0,     0,     0,     0,     0,     0,     0,     0,     0,     0,\n",
              "             0,     0,  8995, 61937, 57825, 41120, 27756,   257,     0,     0,\n",
              "             0,     0,     0,     0,     0,     0,     0,     0],\n",
              "        [    0,     0,     0,     0,     0,     0,     0,     0,     0,     0,\n",
              "             0,     0,     0, 20817, 61680, 65021, 65021, 30583,  6425,     0,\n",
              "             0,     0,     0,     0,     0,     0,     0,     0],\n",
              "        [    0,     0,     0,     0,     0,     0,     0,     0,     0,     0,\n",
              "             0,     0,     0,     0, 11565, 47802, 65021, 65021, 38550,  6939,\n",
              "             0,     0,     0,     0,     0,     0,     0,     0],\n",
              "        [    0,     0,     0,     0,     0,     0,     0,     0,     0,     0,\n",
              "             0,     0,     0,     0,     0,  4112, 23901, 64764, 65021, 48059,\n",
              "             0,     0,     0,     0,     0,     0,     0,     0],\n",
              "        [    0,     0,     0,     0,     0,     0,     0,     0,     0,     0,\n",
              "             0,     0,     0,     0,     0,     0,     0, 63993, 65021, 63993,\n",
              "         16448,     0,     0,     0,     0,     0,     0,     0],\n",
              "        [    0,     0,     0,     0,     0,     0,     0,     0,     0,     0,\n",
              "             0,     0,     0,     0, 11822, 33410, 47031, 65021, 65021, 53199,\n",
              "           514,     0,     0,     0,     0,     0,     0,     0],\n",
              "        [    0,     0,     0,     0,     0,     0,     0,     0,     0,     0,\n",
              "             0,     0, 10023, 38036, 58853, 65021, 65021, 65021, 64250, 46774,\n",
              "             0,     0,     0,     0,     0,     0,     0,     0],\n",
              "        [    0,     0,     0,     0,     0,     0,     0,     0,     0,     0,\n",
              "          6168, 29298, 56797, 65021, 65021, 65021, 65021, 51657, 20046,     0,\n",
              "             0,     0,     0,     0,     0,     0,     0,     0],\n",
              "        [    0,     0,     0,     0,     0,     0,     0,     0,  5911, 16962,\n",
              "         54741, 65021, 65021, 65021, 65021, 50886, 20817,   514,     0,     0,\n",
              "             0,     0,     0,     0,     0,     0,     0,     0],\n",
              "        [    0,     0,     0,     0,     0,     0,  4626, 43947, 56283, 65021,\n",
              "         65021, 65021, 65021, 50115, 20560,  2313,     0,     0,     0,     0,\n",
              "             0,     0,     0,     0,     0,     0,     0,     0],\n",
              "        [    0,     0,     0,     0, 14135, 44204, 58082, 65021, 65021, 65021,\n",
              "         65021, 62708, 34181,  2827,     0,     0,     0,     0,     0,     0,\n",
              "             0,     0,     0,     0,     0,     0,     0,     0],\n",
              "        [    0,     0,     0,     0, 34952, 65021, 65021, 65021, 54484, 34695,\n",
              "         33924,  4112,     0,     0,     0,     0,     0,     0,     0,     0,\n",
              "             0,     0,     0,     0,     0,     0,     0,     0],\n",
              "        [    0,     0,     0,     0,     0,     0,     0,     0,     0,     0,\n",
              "             0,     0,     0,     0,     0,     0,     0,     0,     0,     0,\n",
              "             0,     0,     0,     0,     0,     0,     0,     0],\n",
              "        [    0,     0,     0,     0,     0,     0,     0,     0,     0,     0,\n",
              "             0,     0,     0,     0,     0,     0,     0,     0,     0,     0,\n",
              "             0,     0,     0,     0,     0,     0,     0,     0],\n",
              "        [    0,     0,     0,     0,     0,     0,     0,     0,     0,     0,\n",
              "             0,     0,     0,     0,     0,     0,     0,     0,     0,     0,\n",
              "             0,     0,     0,     0,     0,     0,     0,     0]])\n",
              "\tplain_text=HIDDEN\n",
              "\tptype=ptype.arithmetic\n",
              ")"
            ]
          },
          "metadata": {},
          "execution_count": 108
        }
      ]
    },
    {
      "cell_type": "markdown",
      "source": [
        "Plotting decrypted pixels of encrypted image"
      ],
      "metadata": {
        "id": "PVMuveXaYUsk"
      }
    },
    {
      "cell_type": "code",
      "source": [
        "plt.imshow(images_enc.get_plain_text()[0], cmap='gray', interpolation='none')\n",
        "print(\"label for image is \", labels_enc.get_plain_text()[0])"
      ],
      "metadata": {
        "colab": {
          "base_uri": "https://localhost:8080/",
          "height": 448
        },
        "outputId": "956eb191-5ad7-4c21-ff29-cfbbc2603369",
        "id": "vAo3ncFTOx6j"
      },
      "execution_count": null,
      "outputs": [
        {
          "output_type": "stream",
          "name": "stdout",
          "text": [
            "label for image is  tensor([0., 0., 0., 0., 0., 1., 0., 0., 0., 0.])\n"
          ]
        },
        {
          "output_type": "display_data",
          "data": {
            "text/plain": [
              "<Figure size 640x480 with 1 Axes>"
            ],
            "image/png": "[encoded data removed]"
          },
          "metadata": {}
        }
      ]
    },
    {
      "cell_type": "code",
      "source": [
        "# prepare encrypt testing samples\n",
        "images_test_enc = crypten.cryptensor(images_test)\n",
        "labels_test_enc = crypten.cryptensor(labels_test)"
      ],
      "metadata": {
        "id": "UFX5zGKROx6j"
      },
      "execution_count": null,
      "outputs": []
    },
    {
      "cell_type": "markdown",
      "source": [
        "Creating a simple Logistic regression model using crypten provided nn module\n",
        "\n",
        "\n",
        "The model takes in a flattened image tensor of size 784, and passes it through three fully connected layers with 256, 128, and 10 output units respectively. This allows the model to transform the input image into a 2D tensor of logits representing the probability distribution over the 10 possible digit classes"
      ],
      "metadata": {
        "id": "ymonjkrGYbp3"
      }
    },
    {
      "cell_type": "code",
      "source": [
        "class LogisticRegression(crypten.nn.Module):\n",
        "\n",
        "    def __init__(self):\n",
        "        super().__init__()\n",
        "        # images are 28x28 pixels\n",
        "        self.linear1 = crypten.nn.Linear(28 * 28, 256)\n",
        "        self.linear2= crypten.nn.Linear(256,128)\n",
        "        self.linear3= crypten.nn.Linear(128,10)\n",
        "\n",
        "\n",
        "    def forward(self, x):\n",
        "        x = x.view(-1,784)\n",
        "        x = self.linear1(x)\n",
        "        x = self.linear2(x)\n",
        "        return self.linear3(x)\n",
        ""
      ],
      "metadata": {
        "id": "ndtDXBt8Ox6j"
      },
      "execution_count": null,
      "outputs": []
    },
    {
      "cell_type": "markdown",
      "source": [
        "Encrypting the crypten model"
      ],
      "metadata": {
        "id": "Pmlnp9BhYjIx"
      }
    },
    {
      "cell_type": "code",
      "source": [
        "model = LogisticRegression().encrypt()"
      ],
      "metadata": {
        "id": "XkOvzofVOx6j"
      },
      "execution_count": null,
      "outputs": []
    },
    {
      "cell_type": "markdown",
      "source": [
        "Tesing the model functionality"
      ],
      "metadata": {
        "id": "B-Iy0Vr3Ym_Z"
      }
    },
    {
      "cell_type": "code",
      "source": [
        "model(images_enc.reshape([-1,28*28]))"
      ],
      "metadata": {
        "colab": {
          "base_uri": "https://localhost:8080/"
        },
        "outputId": "2b3fcd33-d115-4a36-d3f9-8eef0b25f9d5",
        "id": "tzvHQEUpOx6j"
      },
      "execution_count": null,
      "outputs": [
        {
          "output_type": "execute_result",
          "data": {
            "text/plain": [
              "MPCTensor(\n",
              "\t_tensor=tensor([[ -9551,   3334, -12409,  ..., -10518,  -1740, -13630],\n",
              "        [ -7734,   3826,  -4487,  ..., -12209,     72,  -6832],\n",
              "        [ -3774,   5319,  -1444,  ...,  -7907,   6479,  -5489],\n",
              "        ...,\n",
              "        [ -1009,   7983,  -2998,  ..., -12763,   -197,  -6966],\n",
              "        [ -5696,   8636,  -7547,  ...,  -9947,  -1567,  -2560],\n",
              "        [ -5468,   7714,  -2079,  ...,  -6587,   3345,  -5343]])\n",
              "\tplain_text=HIDDEN\n",
              "\tptype=ptype.arithmetic\n",
              ")"
            ]
          },
          "metadata": {},
          "execution_count": 113
        }
      ]
    },
    {
      "cell_type": "markdown",
      "source": [
        "Training the model"
      ],
      "metadata": {
        "id": "Z4yka7A4YpxA"
      }
    },
    {
      "cell_type": "code",
      "source": [
        "def train_model(model, X, y, epochs=60, learning_rate=0.03):\n",
        "    criterion = crypten.nn.CrossEntropyLoss() #-sum(p * log(q))\n",
        "\n",
        "    for epoch in range(epochs):\n",
        "        model.zero_grad()\n",
        "        # calculate the loss\n",
        "        output = model(X)\n",
        "        loss = criterion(output, y)\n",
        "        print(f\"epoch {epoch} loss: {loss.get_plain_text()}\")\n",
        "        loss.backward()\n",
        "        model.update_parameters(learning_rate)\n",
        "    return model"
      ],
      "metadata": {
        "id": "yiZ0jHbAOx6j"
      },
      "execution_count": null,
      "outputs": []
    },
    {
      "cell_type": "code",
      "source": [
        "model = train_model(model, images_enc.reshape(-1,784), labels_enc)"
      ],
      "metadata": {
        "colab": {
          "base_uri": "https://localhost:8080/"
        },
        "outputId": "6c384fe9-a2d1-4279-f636-f47664cdd092",
        "id": "yPkZfj67Ox6k"
      },
      "execution_count": null,
      "outputs": [
        {
          "output_type": "stream",
          "name": "stdout",
          "text": [
            "epoch 0 loss: 2.315460205078125\n",
            "epoch 1 loss: 2.3122711181640625\n",
            "epoch 2 loss: 2.3091888427734375\n",
            "epoch 3 loss: 2.3060150146484375\n",
            "epoch 4 loss: 2.3029632568359375\n",
            "epoch 5 loss: 2.29986572265625\n",
            "epoch 6 loss: 2.29681396484375\n",
            "epoch 7 loss: 2.293670654296875\n",
            "epoch 8 loss: 2.290679931640625\n",
            "epoch 9 loss: 2.2875823974609375\n",
            "epoch 10 loss: 2.28460693359375\n",
            "epoch 11 loss: 2.281494140625\n",
            "epoch 12 loss: 2.27850341796875\n",
            "epoch 13 loss: 2.275604248046875\n",
            "epoch 14 loss: 2.2725067138671875\n",
            "epoch 15 loss: 2.269561767578125\n",
            "epoch 16 loss: 2.2666168212890625\n",
            "epoch 17 loss: 2.2635955810546875\n",
            "epoch 18 loss: 2.260772705078125\n",
            "epoch 19 loss: 2.2577667236328125\n",
            "epoch 20 loss: 2.2547149658203125\n",
            "epoch 21 loss: 2.2518157958984375\n",
            "epoch 22 loss: 2.2489013671875\n",
            "epoch 23 loss: 2.245849609375\n",
            "epoch 24 loss: 2.242919921875\n",
            "epoch 25 loss: 2.239776611328125\n",
            "epoch 26 loss: 2.236785888671875\n",
            "epoch 27 loss: 2.2337646484375\n",
            "epoch 28 loss: 2.230621337890625\n",
            "epoch 29 loss: 2.2275848388671875\n",
            "epoch 30 loss: 2.2243804931640625\n",
            "epoch 31 loss: 2.2213592529296875\n",
            "epoch 32 loss: 2.218170166015625\n",
            "epoch 33 loss: 2.2150726318359375\n",
            "epoch 34 loss: 2.2118988037109375\n",
            "epoch 35 loss: 2.2087249755859375\n",
            "epoch 36 loss: 2.205535888671875\n",
            "epoch 37 loss: 2.202392578125\n",
            "epoch 38 loss: 2.1992034912109375\n",
            "epoch 39 loss: 2.195892333984375\n",
            "epoch 40 loss: 2.1926116943359375\n",
            "epoch 41 loss: 2.18914794921875\n",
            "epoch 42 loss: 2.185882568359375\n",
            "epoch 43 loss: 2.18255615234375\n",
            "epoch 44 loss: 2.1790924072265625\n",
            "epoch 45 loss: 2.17578125\n",
            "epoch 46 loss: 2.1722412109375\n",
            "epoch 47 loss: 2.168853759765625\n",
            "epoch 48 loss: 2.16534423828125\n",
            "epoch 49 loss: 2.161773681640625\n",
            "epoch 50 loss: 2.158233642578125\n",
            "epoch 51 loss: 2.1546478271484375\n",
            "epoch 52 loss: 2.15106201171875\n",
            "epoch 53 loss: 2.1474456787109375\n",
            "epoch 54 loss: 2.1436767578125\n",
            "epoch 55 loss: 2.139923095703125\n",
            "epoch 56 loss: 2.13623046875\n",
            "epoch 57 loss: 2.1323699951171875\n",
            "epoch 58 loss: 2.1285400390625\n",
            "epoch 59 loss: 2.124664306640625\n"
          ]
        }
      ]
    },
    {
      "cell_type": "markdown",
      "source": [
        "Make predictions on a test data image which is not used for training"
      ],
      "metadata": {
        "id": "dTWJctblZnl6"
      }
    },
    {
      "cell_type": "code",
      "source": [
        "prediction = model(crypten.cryptensor(images[3]).reshape(-1,28*28))\n",
        "prediction.get_plain_text().argmax()"
      ],
      "metadata": {
        "colab": {
          "base_uri": "https://localhost:8080/"
        },
        "outputId": "ceea2e2d-d5da-49d2-805a-7b15ce094b3e",
        "id": "yqdrw-I8Ox6k"
      },
      "execution_count": null,
      "outputs": [
        {
          "output_type": "execute_result",
          "data": {
            "text/plain": [
              "tensor(1)"
            ]
          },
          "metadata": {},
          "execution_count": 118
        }
      ]
    },
    {
      "cell_type": "code",
      "source": [
        "plt.imshow(images[3], cmap='gray', interpolation='none')"
      ],
      "metadata": {
        "colab": {
          "base_uri": "https://localhost:8080/",
          "height": 448
        },
        "outputId": "9ebb77f5-e87a-47b1-8e09-ca119acb0489",
        "id": "5fRgBEmGOx6k"
      },
      "execution_count": null,
      "outputs": [
        {
          "output_type": "execute_result",
          "data": {
            "text/plain": [
              "<matplotlib.image.AxesImage at 0x7ff7e90bd5b0>"
            ]
          },
          "metadata": {},
          "execution_count": 119
        },
        {
          "output_type": "display_data",
          "data": {
            "text/plain": [
              "<Figure size 640x480 with 1 Axes>"
            ],
            "image/png": "[encoded data removed]"
          },
          "metadata": {}
        }
      ]
    },
    {
      "cell_type": "markdown",
      "source": [
        "Computing total average accuracy on entire test dataset"
      ],
      "metadata": {
        "id": "GBg7dajZZtnF"
      }
    },
    {
      "cell_type": "code",
      "source": [
        "def avg_test_accuracy(model, X, y):\n",
        "    # calculate predicted labels and then calculate the accuracy with the groundtruth ones.\n",
        "    correct = 0\n",
        "    outputs = model(X.reshape(-1, 28*28))\n",
        "    predicted = outputs.get_plain_text()\n",
        "    labels = y.get_plain_text()\n",
        "    for i,j in zip(predicted,labels):\n",
        "      if i.argmax() == j.argmax():\n",
        "        correct = correct+1\n",
        "    print('Average test Accuracy :',float(correct / y.shape[0]))"
      ],
      "metadata": {
        "id": "G0XO8rPZOx6k"
      },
      "execution_count": null,
      "outputs": []
    },
    {
      "cell_type": "code",
      "source": [
        "avg_test_accuracy(model, images_test_enc.reshape([-1,28*28]), labels_test_enc)"
      ],
      "metadata": {
        "colab": {
          "base_uri": "https://localhost:8080/"
        },
        "outputId": "e27b36da-67e3-4208-b557-a9679e9a044e",
        "id": "fuMVesJtOx6k"
      },
      "execution_count": null,
      "outputs": [
        {
          "output_type": "stream",
          "name": "stdout",
          "text": [
            "Average test Accuracy : 0.69\n"
          ]
        }
      ]
    }
  ]
}